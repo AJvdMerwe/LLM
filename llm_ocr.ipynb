{
 "cells": [
  {
   "cell_type": "code",
   "execution_count": 1,
   "metadata": {
    "collapsed": true
   },
   "outputs": [],
   "source": [
    "import ollama"
   ]
  },
  {
   "cell_type": "code",
   "execution_count": 2,
   "outputs": [],
   "source": [
    "data_file = '/home/arneau/Downloads/Straight-Bill-of-Lading.png'\n",
    "corporate_invoice = \"/home/arneau/Downloads/corporate_invoice.jpg\"\n",
    "qid = \"/home/arneau/Downloads/qid.jpg\"\n",
    "perm_residence = \"/home/arneau/Pictures/Screenshots/Screenshot from 2025-04-18 16-41-49.png\""
   ],
   "metadata": {
    "collapsed": false
   }
  },
  {
   "cell_type": "code",
   "execution_count": 3,
   "outputs": [],
   "source": [
    "response = ollama.chat(\n",
    "    model='gemma3',\n",
    "    messages=[{\n",
    "        'role': 'user',\n",
    "        'content': \"Extract all the information from the image. Extract the company name and verify the company name against the logo on the document, provide the full company name. Provide all the extracted data from the file, the response must be in a valid JSON format.\",\n",
    "        'images': [data_file]\n",
    "    }],\n",
    "    format='json',\n",
    ")"
   ],
   "metadata": {
    "collapsed": false
   }
  },
  {
   "cell_type": "code",
   "execution_count": 4,
   "outputs": [
    {
     "data": {
      "text/plain": "'{\"Invoice Number\": \"15609\",\\n \"Carrier\": \"FEDEX\",\\n \"Tracking Number\": \"123456789\",\\n \"Freight Charge Terms\": \"123456\",\\n \"Customer Name\": \"Acme Corp\",\\n \"Billing Address\": \"5406 NW 72 Ave\",\\n \"Billing City\": \"Miami\",\\n \"Billing State\": \"FL\",\\n \"Billing Zip\": \"33166\",\\n \"Shipping Address\": \"8551 East 86th St\",\\n \"Shipping City\": \"Calumet City\",\\n \"Shipping State\": \"IL\",\\n \"Shipping Zip\": \"60121\",\\n \"Item Description\": \"Various Items\",\\n \"Quantity\": \"Various\",\\n \"Unit Price\": \"Varies\",\\n \"Total Amount\": \"Varies\",\\n \"Terms\": \"See Invoice for Details\",\\n \"Payment Terms\": \"Net 30\",\\n \"Acceptable Payment Methods\": \"Check, Wire Transfer\",\\n \"Notes\": \"Liability limited for loss or damage in this shipment may be applicable. See U.S.C. 14706(c) for details. All rates are dependent on the value of the shipment. Where the agreed value of the shipment exceeds $500, the shipper is not liable for loss or damage.\",\\n \"Customer Name\": \"Acme Corp\",\\n \"Driver Name\": \"John Smith\",\\n \"Driver License\": \"J0052-2315\",\\n \"Payment Terms\": \"Net 30\",\\n \"Acceptable Payment Methods\": \"Check, Wire Transfer\"}'"
     },
     "execution_count": 4,
     "metadata": {},
     "output_type": "execute_result"
    }
   ],
   "source": [
    "response['message']['content']"
   ],
   "metadata": {
    "collapsed": false
   }
  },
  {
   "cell_type": "code",
   "execution_count": null,
   "outputs": [],
   "source": [],
   "metadata": {
    "collapsed": false
   }
  }
 ],
 "metadata": {
  "kernelspec": {
   "name": "llm-env",
   "language": "python",
   "display_name": "llm-env"
  },
  "language_info": {
   "codemirror_mode": {
    "name": "ipython",
    "version": 2
   },
   "file_extension": ".py",
   "mimetype": "text/x-python",
   "name": "python",
   "nbconvert_exporter": "python",
   "pygments_lexer": "ipython2",
   "version": "2.7.6"
  }
 },
 "nbformat": 4,
 "nbformat_minor": 0
}
